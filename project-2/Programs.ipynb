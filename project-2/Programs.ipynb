{
 "cells": [
  {
   "cell_type": "code",
   "execution_count": 9,
   "metadata": {},
   "outputs": [
    {
     "name": "stdout",
     "output_type": "stream",
     "text": [
      "['program_percentage.agriculture', 'program_percentage.resources', 'program_percentage.architecture', 'program_percentage.ethnic_cultural_gender', 'program_percentage.communication', 'program_percentage.communications_technology', 'program_percentage.computer', 'program_percentage.personal_culinary', 'program_percentage.education', 'program_percentage.engineering', 'program_percentage.engineering_technology', 'program_percentage.language', 'program_percentage.family_consumer_science', 'program_percentage.legal', 'program_percentage.english', 'program_percentage.humanities', 'program_percentage.library', 'program_percentage.biological', 'program_percentage.mathematics', 'program_percentage.military', 'program_percentage.multidiscipline', 'program_percentage.parks_recreation_fitness', 'program_percentage.philosophy_religious', 'program_percentage.theology_religious_vocation', 'program_percentage.physical_science', 'program_percentage.science_technology', 'program_percentage.psychology', 'program_percentage.security_law_enforcement', 'program_percentage.public_administration_social_service', 'program_percentage.social_science', 'program_percentage.construction', 'program_percentage.mechanic_repair_technology', 'program_percentage.precision_production', 'program_percentage.transportation', 'program_percentage.visual_performing', 'program_percentage.health', 'program_percentage.business_marketing', 'program_percentage.history']\n"
     ]
    }
   ],
   "source": [
    "programs = ['program_percentage.agriculture',\n",
    "'program_percentage.resources',\n",
    "'program_percentage.architecture',\n",
    "'program_percentage.ethnic_cultural_gender',\n",
    "'program_percentage.communication',\n",
    "'program_percentage.communications_technology',\n",
    "'program_percentage.computer',\n",
    "'program_percentage.personal_culinary',\n",
    "'program_percentage.education',\n",
    "'program_percentage.engineering',\n",
    "'program_percentage.engineering_technology',\n",
    "'program_percentage.language',\n",
    "'program_percentage.family_consumer_science',\n",
    "'program_percentage.legal',\n",
    "'program_percentage.english',\n",
    "'program_percentage.humanities',\n",
    "'program_percentage.library',\n",
    "'program_percentage.biological',\n",
    "'program_percentage.mathematics',\n",
    "'program_percentage.military',\n",
    "'program_percentage.multidiscipline',\n",
    "'program_percentage.parks_recreation_fitness',\n",
    "'program_percentage.philosophy_religious',\n",
    "'program_percentage.theology_religious_vocation',\n",
    "'program_percentage.physical_science',\n",
    "'program_percentage.science_technology',\n",
    "'program_percentage.psychology',\n",
    "'program_percentage.security_law_enforcement',\n",
    "'program_percentage.public_administration_social_service',\n",
    "'program_percentage.social_science',\n",
    "'program_percentage.construction',\n",
    "'program_percentage.mechanic_repair_technology',\n",
    "'program_percentage.precision_production',\n",
    "'program_percentage.transportation',\n",
    "'program_percentage.visual_performing',\n",
    "'program_percentage.health',\n",
    "'program_percentage.business_marketing',\n",
    "'program_percentage.history']\n",
    "print(programs)"
   ]
  },
  {
   "cell_type": "code",
   "execution_count": 10,
   "metadata": {
    "scrolled": false
   },
   "outputs": [
    {
     "name": "stdout",
     "output_type": "stream",
     "text": [
      "['2017.academic.program_percentage.agriculture', '2017.academic.program_percentage.resources', '2017.academic.program_percentage.architecture', '2017.academic.program_percentage.ethnic_cultural_gender', '2017.academic.program_percentage.communication', '2017.academic.program_percentage.communications_technology', '2017.academic.program_percentage.computer', '2017.academic.program_percentage.personal_culinary', '2017.academic.program_percentage.education', '2017.academic.program_percentage.engineering', '2017.academic.program_percentage.engineering_technology', '2017.academic.program_percentage.language', '2017.academic.program_percentage.family_consumer_science', '2017.academic.program_percentage.legal', '2017.academic.program_percentage.english', '2017.academic.program_percentage.humanities', '2017.academic.program_percentage.library', '2017.academic.program_percentage.biological', '2017.academic.program_percentage.mathematics', '2017.academic.program_percentage.military', '2017.academic.program_percentage.multidiscipline', '2017.academic.program_percentage.parks_recreation_fitness', '2017.academic.program_percentage.philosophy_religious', '2017.academic.program_percentage.theology_religious_vocation', '2017.academic.program_percentage.physical_science', '2017.academic.program_percentage.science_technology', '2017.academic.program_percentage.psychology', '2017.academic.program_percentage.security_law_enforcement', '2017.academic.program_percentage.public_administration_social_service', '2017.academic.program_percentage.social_science', '2017.academic.program_percentage.construction', '2017.academic.program_percentage.mechanic_repair_technology', '2017.academic.program_percentage.precision_production', '2017.academic.program_percentage.transportation', '2017.academic.program_percentage.visual_performing', '2017.academic.program_percentage.health', '2017.academic.program_percentage.business_marketing', '2017.academic.program_percentage.history']\n"
     ]
    }
   ],
   "source": [
    "string = '2017.academic.'\n",
    "my_new_list = [string + x for x in programs]\n",
    "print(my_new_list)"
   ]
  },
  {
   "cell_type": "code",
   "execution_count": null,
   "metadata": {},
   "outputs": [],
   "source": []
  }
 ],
 "metadata": {
  "kernelspec": {
   "display_name": "Python 3",
   "language": "python",
   "name": "python3"
  },
  "language_info": {
   "codemirror_mode": {
    "name": "ipython",
    "version": 3
   },
   "file_extension": ".py",
   "mimetype": "text/x-python",
   "name": "python",
   "nbconvert_exporter": "python",
   "pygments_lexer": "ipython3",
   "version": "3.6.8"
  }
 },
 "nbformat": 4,
 "nbformat_minor": 2
}
