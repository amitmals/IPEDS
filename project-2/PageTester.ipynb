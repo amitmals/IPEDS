{
 "cells": [
  {
   "cell_type": "code",
   "execution_count": 19,
   "metadata": {},
   "outputs": [],
   "source": [
    "# Dependencies\n",
    "import requests\n",
    "import json\n",
    "from pprint import pprint\n",
    "import pandas as pd\n",
    "import numpy as np\n",
    "import pymongo\n",
    "\n",
    "# Import API Key\n",
    "from config import api_key"
   ]
  },
  {
   "cell_type": "code",
   "execution_count": 20,
   "metadata": {},
   "outputs": [],
   "source": [
    "# Initialize PyMongo to work with MongoDBs\n",
    "conn = 'mongodb://localhost:27017'\n",
    "client = pymongo.MongoClient(conn)"
   ]
  },
  {
   "cell_type": "code",
   "execution_count": 21,
   "metadata": {},
   "outputs": [],
   "source": [
    "# Define database and collection\n",
    "db = client.schools_db\n",
    "collection = db.items"
   ]
  },
  {
   "cell_type": "code",
   "execution_count": 23,
   "metadata": {},
   "outputs": [],
   "source": [
    "# URL for GET requests to retrieve school data\n",
    "base_url = \"https://api.data.gov/ed/collegescorecard/v1/schools?api_key=\" + api_key"
   ]
  },
  {
   "cell_type": "code",
   "execution_count": 24,
   "metadata": {},
   "outputs": [],
   "source": [
    "# Filter by School \"id\"\n",
    "ST = \"&school.state=CA\"\n",
    "min_size = \"&latest.student.size__range=1000..\"\n",
    "# sort = \"&_sort=latest.student.size\"\n",
    "\n",
    "\n",
    "# SZ = \"&student.size__range=1000..\"\n",
    "filter_url = base_url + ST + min_size\n",
    "# filter_url = base_url + ST + min_size + sort\n",
    "# filter_url = base_url + ST + SZ\n",
    "# url = base_url + \"api_key=\" + api_key + \"&\" + ST + \"&\" + min_size\n",
    "# url = base_url + \"api_key=\" + api_key + \"&\" + ST + \"&\" + min_size + \"&\" + display"
   ]
  },
  {
   "cell_type": "code",
   "execution_count": 25,
   "metadata": {
    "scrolled": false
   },
   "outputs": [
    {
     "name": "stdout",
     "output_type": "stream",
     "text": [
      "https://api.data.gov/ed/collegescorecard/v1/schools?api_key=rjhyKFWn0g9PsqjQC1dH9vRABMgQOMzdY5msysWA&school.state=CA&latest.student.size__range=1000..\n"
     ]
    }
   ],
   "source": [
    "print(filter_url)"
   ]
  },
  {
   "cell_type": "code",
   "execution_count": 26,
   "metadata": {},
   "outputs": [],
   "source": [
    "response = requests.get(filter_url).json()"
   ]
  },
  {
   "cell_type": "code",
   "execution_count": 27,
   "metadata": {},
   "outputs": [
    {
     "name": "stdout",
     "output_type": "stream",
     "text": [
      "11\n"
     ]
    }
   ],
   "source": [
    "school_responses = response['metadata']['total']\n",
    "max_pages = 20\n",
    "pages = int(np.ceil(school_responses / max_pages))\n",
    "print(pages)"
   ]
  },
  {
   "cell_type": "code",
   "execution_count": 28,
   "metadata": {},
   "outputs": [],
   "source": [
    "def api_call(page):\n",
    "    \n",
    "    school_data = []    \n",
    "    \n",
    "    url = filter_url + f\"&_page={page}\"\n",
    "    data = requests.get(url).json()\n",
    "    \n",
    "    \n",
    "    for i in range(len(data[\"results\"])):\n",
    "        s_id = data[\"results\"][i][\"id\"]\n",
    "\n",
    "        #SCHOOL DATA\n",
    "        school_name = data[\"results\"][i][\"school\"][\"name\"]\n",
    "        url = data[\"results\"][i][\"school\"][\"school_url\"]\n",
    "        size = data[\"results\"][i][\"latest\"][\"student\"][\"size\"]\n",
    "\n",
    "        school_data.append({\"ID\": s_id,\n",
    "                            \"Name\": school_name,\n",
    "                            \"Website\": url,\n",
    "                            \"Total Students\": size,})\n",
    "    return school_data"
   ]
  },
  {
   "cell_type": "code",
   "execution_count": 42,
   "metadata": {},
   "outputs": [],
   "source": [
    "colleges = []\n",
    "\n",
    "for page_iteration in range(pages):\n",
    "    college_data = api_call(page_iteration)\n",
    "    for college in college_data:\n",
    "        colleges.append(college)\n",
    "#         print(college)    \n",
    "# colleges;\n",
    "college_df = pd.DataFrame(colleges)"
   ]
  },
  {
   "cell_type": "code",
   "execution_count": 32,
   "metadata": {},
   "outputs": [],
   "source": [
    "# college_df = pd.DataFrame(colleges)"
   ]
  },
  {
   "cell_type": "code",
   "execution_count": 43,
   "metadata": {
    "scrolled": true
   },
   "outputs": [],
   "source": [
    "sorted_df = college_df.sort_values(\"Name\")"
   ]
  },
  {
   "cell_type": "code",
   "execution_count": 44,
   "metadata": {},
   "outputs": [
    {
     "data": {
      "text/html": [
       "<div>\n",
       "<style scoped>\n",
       "    .dataframe tbody tr th:only-of-type {\n",
       "        vertical-align: middle;\n",
       "    }\n",
       "\n",
       "    .dataframe tbody tr th {\n",
       "        vertical-align: top;\n",
       "    }\n",
       "\n",
       "    .dataframe thead th {\n",
       "        text-align: right;\n",
       "    }\n",
       "</style>\n",
       "<table border=\"1\" class=\"dataframe\">\n",
       "  <thead>\n",
       "    <tr style=\"text-align: right;\">\n",
       "      <th></th>\n",
       "      <th>ID</th>\n",
       "      <th>Name</th>\n",
       "      <th>Total Students</th>\n",
       "      <th>Website</th>\n",
       "    </tr>\n",
       "  </thead>\n",
       "  <tbody>\n",
       "    <tr>\n",
       "      <th>73</th>\n",
       "      <td>108232</td>\n",
       "      <td>Academy of Art University</td>\n",
       "      <td>7520</td>\n",
       "      <td>www.academyart.edu</td>\n",
       "    </tr>\n",
       "    <tr>\n",
       "      <th>41</th>\n",
       "      <td>108807</td>\n",
       "      <td>Allan Hancock College</td>\n",
       "      <td>9282</td>\n",
       "      <td>www.hancockcollege.edu/</td>\n",
       "    </tr>\n",
       "    <tr>\n",
       "      <th>203</th>\n",
       "      <td>109040</td>\n",
       "      <td>American Career College-Los Angeles</td>\n",
       "      <td>1237</td>\n",
       "      <td>americancareercollege.edu</td>\n",
       "    </tr>\n",
       "    <tr>\n",
       "      <th>3</th>\n",
       "      <td>447768</td>\n",
       "      <td>American Career College-Ontario</td>\n",
       "      <td>1275</td>\n",
       "      <td>americancareercollege.edu</td>\n",
       "    </tr>\n",
       "    <tr>\n",
       "      <th>105</th>\n",
       "      <td>109208</td>\n",
       "      <td>American River College</td>\n",
       "      <td>29082</td>\n",
       "      <td>www.arc.losrios.edu/</td>\n",
       "    </tr>\n",
       "  </tbody>\n",
       "</table>\n",
       "</div>"
      ],
      "text/plain": [
       "         ID                                 Name  Total Students  \\\n",
       "73   108232            Academy of Art University            7520   \n",
       "41   108807                Allan Hancock College            9282   \n",
       "203  109040  American Career College-Los Angeles            1237   \n",
       "3    447768      American Career College-Ontario            1275   \n",
       "105  109208               American River College           29082   \n",
       "\n",
       "                       Website  \n",
       "73          www.academyart.edu  \n",
       "41     www.hancockcollege.edu/  \n",
       "203  americancareercollege.edu  \n",
       "3    americancareercollege.edu  \n",
       "105       www.arc.losrios.edu/  "
      ]
     },
     "execution_count": 44,
     "metadata": {},
     "output_type": "execute_result"
    }
   ],
   "source": [
    "sorted_df.head()"
   ]
  },
  {
   "cell_type": "code",
   "execution_count": 36,
   "metadata": {},
   "outputs": [
    {
     "data": {
      "text/plain": [
       "<pymongo.results.InsertManyResult at 0x1188b5388>"
      ]
     },
     "execution_count": 36,
     "metadata": {},
     "output_type": "execute_result"
    }
   ],
   "source": [
    "collection.insert_many(sorted_df.to_dict('records'))\n",
    "# db.insert_many(sorted_df)"
   ]
  },
  {
   "cell_type": "code",
   "execution_count": 37,
   "metadata": {},
   "outputs": [],
   "source": [
    "documents = collection.find()"
   ]
  },
  {
   "cell_type": "code",
   "execution_count": 38,
   "metadata": {},
   "outputs": [],
   "source": [
    "df = pd.DataFrame(list(documents))"
   ]
  },
  {
   "cell_type": "code",
   "execution_count": 40,
   "metadata": {},
   "outputs": [
    {
     "data": {
      "text/html": [
       "<div>\n",
       "<style scoped>\n",
       "    .dataframe tbody tr th:only-of-type {\n",
       "        vertical-align: middle;\n",
       "    }\n",
       "\n",
       "    .dataframe tbody tr th {\n",
       "        vertical-align: top;\n",
       "    }\n",
       "\n",
       "    .dataframe thead th {\n",
       "        text-align: right;\n",
       "    }\n",
       "</style>\n",
       "<table border=\"1\" class=\"dataframe\">\n",
       "  <thead>\n",
       "    <tr style=\"text-align: right;\">\n",
       "      <th></th>\n",
       "      <th>ID</th>\n",
       "      <th>Name</th>\n",
       "      <th>Total Students</th>\n",
       "      <th>Website</th>\n",
       "      <th>_id</th>\n",
       "    </tr>\n",
       "  </thead>\n",
       "  <tbody>\n",
       "    <tr>\n",
       "      <th>0</th>\n",
       "      <td>108232</td>\n",
       "      <td>Academy of Art University</td>\n",
       "      <td>7520</td>\n",
       "      <td>www.academyart.edu</td>\n",
       "      <td>5d5c752144d7079dbb0645d9</td>\n",
       "    </tr>\n",
       "    <tr>\n",
       "      <th>1</th>\n",
       "      <td>108807</td>\n",
       "      <td>Allan Hancock College</td>\n",
       "      <td>9282</td>\n",
       "      <td>www.hancockcollege.edu/</td>\n",
       "      <td>5d5c752144d7079dbb0645da</td>\n",
       "    </tr>\n",
       "    <tr>\n",
       "      <th>2</th>\n",
       "      <td>109040</td>\n",
       "      <td>American Career College-Los Angeles</td>\n",
       "      <td>1237</td>\n",
       "      <td>americancareercollege.edu</td>\n",
       "      <td>5d5c752144d7079dbb0645db</td>\n",
       "    </tr>\n",
       "    <tr>\n",
       "      <th>3</th>\n",
       "      <td>447768</td>\n",
       "      <td>American Career College-Ontario</td>\n",
       "      <td>1275</td>\n",
       "      <td>americancareercollege.edu</td>\n",
       "      <td>5d5c752144d7079dbb0645dc</td>\n",
       "    </tr>\n",
       "    <tr>\n",
       "      <th>4</th>\n",
       "      <td>109208</td>\n",
       "      <td>American River College</td>\n",
       "      <td>29082</td>\n",
       "      <td>www.arc.losrios.edu/</td>\n",
       "      <td>5d5c752144d7079dbb0645dd</td>\n",
       "    </tr>\n",
       "  </tbody>\n",
       "</table>\n",
       "</div>"
      ],
      "text/plain": [
       "       ID                                 Name  Total Students  \\\n",
       "0  108232            Academy of Art University            7520   \n",
       "1  108807                Allan Hancock College            9282   \n",
       "2  109040  American Career College-Los Angeles            1237   \n",
       "3  447768      American Career College-Ontario            1275   \n",
       "4  109208               American River College           29082   \n",
       "\n",
       "                     Website                       _id  \n",
       "0         www.academyart.edu  5d5c752144d7079dbb0645d9  \n",
       "1    www.hancockcollege.edu/  5d5c752144d7079dbb0645da  \n",
       "2  americancareercollege.edu  5d5c752144d7079dbb0645db  \n",
       "3  americancareercollege.edu  5d5c752144d7079dbb0645dc  \n",
       "4       www.arc.losrios.edu/  5d5c752144d7079dbb0645dd  "
      ]
     },
     "execution_count": 40,
     "metadata": {},
     "output_type": "execute_result"
    }
   ],
   "source": [
    "df.head()"
   ]
  },
  {
   "cell_type": "code",
   "execution_count": null,
   "metadata": {},
   "outputs": [],
   "source": []
  }
 ],
 "metadata": {
  "kernelspec": {
   "display_name": "Python 3",
   "language": "python",
   "name": "python3"
  },
  "language_info": {
   "codemirror_mode": {
    "name": "ipython",
    "version": 3
   },
   "file_extension": ".py",
   "mimetype": "text/x-python",
   "name": "python",
   "nbconvert_exporter": "python",
   "pygments_lexer": "ipython3",
   "version": "3.6.8"
  }
 },
 "nbformat": 4,
 "nbformat_minor": 2
}
